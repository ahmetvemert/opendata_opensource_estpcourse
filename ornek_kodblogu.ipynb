{
 "cells": [
  {
   "cell_type": "code",
   "execution_count": 1,
   "id": "339c735e-3ec3-475c-a76d-1af78828fd55",
   "metadata": {
    "tags": []
   },
   "outputs": [
    {
     "name": "stdout",
     "output_type": "stream",
     "text": [
      "Sıralı Liste: [2, 3, 5, 6, 7, 8]\n",
      "Ortalama: 5.166666666666667\n"
     ]
    }
   ],
   "source": [
    "def sort_and_average(numbers):\n",
    "    \"\"\"\n",
    "    Verilen sayı listesini sıralar ve ortalamasını hesaplar.\n",
    "\n",
    "    Args:\n",
    "    numbers (list): Sıralanacak ve ortalaması hesaplanacak sayılar listesi\n",
    "\n",
    "    Returns:\n",
    "    tuple: Sıralı liste ve ortalama\n",
    "    \"\"\"\n",
    "    if not numbers:\n",
    "        return [], 0\n",
    "    \n",
    "    # Listeyi sıralama\n",
    "    sorted_numbers = sorted(numbers)\n",
    "    \n",
    "    # Ortalama hesaplama\n",
    "    average = sum(sorted_numbers) / len(sorted_numbers)\n",
    "    \n",
    "    return sorted_numbers, average\n",
    "\n",
    "# Örnek kullanım\n",
    "if __name__ == \"__main__\":\n",
    "    numbers = [5, 3, 8, 6, 2, 7]\n",
    "    sorted_numbers, average = sort_and_average(numbers)\n",
    "    \n",
    "    print(f\"Sıralı Liste: {sorted_numbers}\")\n",
    "    print(f\"Ortalama: {average}\")"
   ]
  },
  {
   "cell_type": "code",
   "execution_count": null,
   "id": "fab424e7-1709-4e16-8fd9-41b6d1c1ea89",
   "metadata": {},
   "outputs": [],
   "source": []
  }
 ],
 "metadata": {
  "kernelspec": {
   "display_name": "Python 3 (ipykernel)",
   "language": "python",
   "name": "python3"
  },
  "language_info": {
   "codemirror_mode": {
    "name": "ipython",
    "version": 3
   },
   "file_extension": ".py",
   "mimetype": "text/x-python",
   "name": "python",
   "nbconvert_exporter": "python",
   "pygments_lexer": "ipython3",
   "version": "3.10.11"
  }
 },
 "nbformat": 4,
 "nbformat_minor": 5
}
